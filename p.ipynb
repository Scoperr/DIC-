{
 "cells": [
  {
   "cell_type": "code",
   "execution_count": 1,
   "metadata": {},
   "outputs": [
    {
     "name": "stderr",
     "output_type": "stream",
     "text": [
      "C:\\Users\\ambal\\AppData\\Local\\Temp\\ipykernel_32336\\2207724002.py:2: DtypeWarning: Columns (6,7,8,9,10,11,12,13,14,15,16,18,19,20,21) have mixed types. Specify dtype option on import or set low_memory=False.\n",
      "  df = pd.read_csv(\"project.csv\")\n"
     ]
    }
   ],
   "source": [
    "import pandas as pd\n",
    "df = pd.read_csv(\"project.csv\")"
   ]
  },
  {
   "cell_type": "code",
   "execution_count": 2,
   "metadata": {},
   "outputs": [
    {
     "data": {
      "text/plain": [
       "date               0\n",
       "sitename           0\n",
       "county             0\n",
       "aqi            43020\n",
       "pollutant    3235012\n",
       "status        142718\n",
       "so2           139768\n",
       "co            113504\n",
       "o3            125017\n",
       "o3_8hr        131081\n",
       "pm10          140358\n",
       "pm2.5         131438\n",
       "no2           165977\n",
       "nox           169124\n",
       "no            169455\n",
       "windspeed     219498\n",
       "winddirec     219736\n",
       "unit         5882208\n",
       "co_8hr         81229\n",
       "pm2.5_avg      79941\n",
       "pm10_avg       89875\n",
       "so2_avg       629162\n",
       "longitude     933620\n",
       "latitude      933620\n",
       "siteid       1779469\n",
       "dtype: int64"
      ]
     },
     "execution_count": 2,
     "metadata": {},
     "output_type": "execute_result"
    }
   ],
   "source": [
    "df.isnull().sum()"
   ]
  },
  {
   "cell_type": "code",
   "execution_count": 3,
   "metadata": {},
   "outputs": [],
   "source": [
    "num_col = df.select_dtypes(include=\"number\").columns"
   ]
  },
  {
   "cell_type": "code",
   "execution_count": null,
   "metadata": {},
   "outputs": [],
   "source": []
  },
  {
   "cell_type": "code",
   "execution_count": null,
   "metadata": {},
   "outputs": [],
   "source": []
  },
  {
   "cell_type": "code",
   "execution_count": 4,
   "metadata": {},
   "outputs": [
    {
     "data": {
      "text/html": [
       "<div>\n",
       "<style scoped>\n",
       "    .dataframe tbody tr th:only-of-type {\n",
       "        vertical-align: middle;\n",
       "    }\n",
       "\n",
       "    .dataframe tbody tr th {\n",
       "        vertical-align: top;\n",
       "    }\n",
       "\n",
       "    .dataframe thead th {\n",
       "        text-align: right;\n",
       "    }\n",
       "</style>\n",
       "<table border=\"1\" class=\"dataframe\">\n",
       "  <thead>\n",
       "    <tr style=\"text-align: right;\">\n",
       "      <th></th>\n",
       "      <th>aqi</th>\n",
       "      <th>unit</th>\n",
       "      <th>longitude</th>\n",
       "      <th>latitude</th>\n",
       "      <th>siteid</th>\n",
       "    </tr>\n",
       "  </thead>\n",
       "  <tbody>\n",
       "    <tr>\n",
       "      <th>aqi</th>\n",
       "      <td>1.000000</td>\n",
       "      <td>NaN</td>\n",
       "      <td>-0.144867</td>\n",
       "      <td>-0.163482</td>\n",
       "      <td>0.042078</td>\n",
       "    </tr>\n",
       "    <tr>\n",
       "      <th>unit</th>\n",
       "      <td>NaN</td>\n",
       "      <td>NaN</td>\n",
       "      <td>NaN</td>\n",
       "      <td>NaN</td>\n",
       "      <td>NaN</td>\n",
       "    </tr>\n",
       "    <tr>\n",
       "      <th>longitude</th>\n",
       "      <td>-0.144867</td>\n",
       "      <td>NaN</td>\n",
       "      <td>1.000000</td>\n",
       "      <td>0.493103</td>\n",
       "      <td>-0.149517</td>\n",
       "    </tr>\n",
       "    <tr>\n",
       "      <th>latitude</th>\n",
       "      <td>-0.163482</td>\n",
       "      <td>NaN</td>\n",
       "      <td>0.493103</td>\n",
       "      <td>1.000000</td>\n",
       "      <td>-0.303894</td>\n",
       "    </tr>\n",
       "    <tr>\n",
       "      <th>siteid</th>\n",
       "      <td>0.042078</td>\n",
       "      <td>NaN</td>\n",
       "      <td>-0.149517</td>\n",
       "      <td>-0.303894</td>\n",
       "      <td>1.000000</td>\n",
       "    </tr>\n",
       "  </tbody>\n",
       "</table>\n",
       "</div>"
      ],
      "text/plain": [
       "                aqi  unit  longitude  latitude    siteid\n",
       "aqi        1.000000   NaN  -0.144867 -0.163482  0.042078\n",
       "unit            NaN   NaN        NaN       NaN       NaN\n",
       "longitude -0.144867   NaN   1.000000  0.493103 -0.149517\n",
       "latitude  -0.163482   NaN   0.493103  1.000000 -0.303894\n",
       "siteid     0.042078   NaN  -0.149517 -0.303894  1.000000"
      ]
     },
     "execution_count": 4,
     "metadata": {},
     "output_type": "execute_result"
    }
   ],
   "source": [
    "df[num_col].corr()"
   ]
  },
  {
   "cell_type": "code",
   "execution_count": 3,
   "metadata": {},
   "outputs": [
    {
     "data": {
      "text/plain": [
       "(5882208, 25)"
      ]
     },
     "execution_count": 3,
     "metadata": {},
     "output_type": "execute_result"
    }
   ],
   "source": [
    "df.shape"
   ]
  },
  {
   "cell_type": "code",
   "execution_count": 4,
   "metadata": {},
   "outputs": [
    {
     "data": {
      "text/plain": [
       "Index(['date', 'sitename', 'county', 'aqi', 'pollutant', 'status', 'so2', 'co',\n",
       "       'o3', 'o3_8hr', 'pm10', 'pm2.5', 'no2', 'nox', 'no', 'windspeed',\n",
       "       'winddirec', 'unit', 'co_8hr', 'pm2.5_avg', 'pm10_avg', 'so2_avg',\n",
       "       'longitude', 'latitude', 'siteid'],\n",
       "      dtype='object')"
      ]
     },
     "execution_count": 4,
     "metadata": {},
     "output_type": "execute_result"
    }
   ],
   "source": [
    "df.columns"
   ]
  },
  {
   "cell_type": "code",
   "execution_count": 6,
   "metadata": {},
   "outputs": [
    {
     "data": {
      "text/html": [
       "<div>\n",
       "<style scoped>\n",
       "    .dataframe tbody tr th:only-of-type {\n",
       "        vertical-align: middle;\n",
       "    }\n",
       "\n",
       "    .dataframe tbody tr th {\n",
       "        vertical-align: top;\n",
       "    }\n",
       "\n",
       "    .dataframe thead th {\n",
       "        text-align: right;\n",
       "    }\n",
       "</style>\n",
       "<table border=\"1\" class=\"dataframe\">\n",
       "  <thead>\n",
       "    <tr style=\"text-align: right;\">\n",
       "      <th></th>\n",
       "      <th>date</th>\n",
       "      <th>sitename</th>\n",
       "      <th>county</th>\n",
       "      <th>aqi</th>\n",
       "      <th>pollutant</th>\n",
       "      <th>status</th>\n",
       "      <th>so2</th>\n",
       "      <th>co</th>\n",
       "      <th>o3</th>\n",
       "      <th>o3_8hr</th>\n",
       "      <th>...</th>\n",
       "      <th>windspeed</th>\n",
       "      <th>winddirec</th>\n",
       "      <th>unit</th>\n",
       "      <th>co_8hr</th>\n",
       "      <th>pm2.5_avg</th>\n",
       "      <th>pm10_avg</th>\n",
       "      <th>so2_avg</th>\n",
       "      <th>longitude</th>\n",
       "      <th>latitude</th>\n",
       "      <th>siteid</th>\n",
       "    </tr>\n",
       "  </thead>\n",
       "  <tbody>\n",
       "    <tr>\n",
       "      <th>0</th>\n",
       "      <td>2024-08-31 23:00</td>\n",
       "      <td>Hukou</td>\n",
       "      <td>Hsinchu County</td>\n",
       "      <td>62.0</td>\n",
       "      <td>PM2.5</td>\n",
       "      <td>Moderate</td>\n",
       "      <td>0.9</td>\n",
       "      <td>0.17</td>\n",
       "      <td>35.0</td>\n",
       "      <td>40.2</td>\n",
       "      <td>...</td>\n",
       "      <td>2.3</td>\n",
       "      <td>225</td>\n",
       "      <td>NaN</td>\n",
       "      <td>0.2</td>\n",
       "      <td>20.1</td>\n",
       "      <td>26.0</td>\n",
       "      <td>1.0</td>\n",
       "      <td>121.038869</td>\n",
       "      <td>24.900097</td>\n",
       "      <td>22.0</td>\n",
       "    </tr>\n",
       "    <tr>\n",
       "      <th>1</th>\n",
       "      <td>2024-08-31 23:00</td>\n",
       "      <td>Zhongming</td>\n",
       "      <td>Taichung City</td>\n",
       "      <td>50.0</td>\n",
       "      <td>NaN</td>\n",
       "      <td>Good</td>\n",
       "      <td>1.6</td>\n",
       "      <td>0.32</td>\n",
       "      <td>27.9</td>\n",
       "      <td>35.1</td>\n",
       "      <td>...</td>\n",
       "      <td>1.1</td>\n",
       "      <td>184</td>\n",
       "      <td>NaN</td>\n",
       "      <td>0.2</td>\n",
       "      <td>15.3</td>\n",
       "      <td>23.0</td>\n",
       "      <td>1.0</td>\n",
       "      <td>120.641092</td>\n",
       "      <td>24.151958</td>\n",
       "      <td>31.0</td>\n",
       "    </tr>\n",
       "    <tr>\n",
       "      <th>2</th>\n",
       "      <td>2024-08-31 23:00</td>\n",
       "      <td>Zhudong</td>\n",
       "      <td>Hsinchu County</td>\n",
       "      <td>45.0</td>\n",
       "      <td>NaN</td>\n",
       "      <td>Good</td>\n",
       "      <td>0.4</td>\n",
       "      <td>0.17</td>\n",
       "      <td>25.1</td>\n",
       "      <td>40.6</td>\n",
       "      <td>...</td>\n",
       "      <td>0.4</td>\n",
       "      <td>210</td>\n",
       "      <td>NaN</td>\n",
       "      <td>0.2</td>\n",
       "      <td>13.8</td>\n",
       "      <td>24.0</td>\n",
       "      <td>0.0</td>\n",
       "      <td>121.088955</td>\n",
       "      <td>24.740914</td>\n",
       "      <td>23.0</td>\n",
       "    </tr>\n",
       "    <tr>\n",
       "      <th>3</th>\n",
       "      <td>2024-08-31 23:00</td>\n",
       "      <td>Hsinchu</td>\n",
       "      <td>Hsinchu City</td>\n",
       "      <td>42.0</td>\n",
       "      <td>NaN</td>\n",
       "      <td>Good</td>\n",
       "      <td>0.8</td>\n",
       "      <td>0.2</td>\n",
       "      <td>30.0</td>\n",
       "      <td>35.9</td>\n",
       "      <td>...</td>\n",
       "      <td>1.9</td>\n",
       "      <td>239</td>\n",
       "      <td>NaN</td>\n",
       "      <td>0.2</td>\n",
       "      <td>13.0</td>\n",
       "      <td>26.0</td>\n",
       "      <td>1.0</td>\n",
       "      <td>120.972368</td>\n",
       "      <td>24.805636</td>\n",
       "      <td>24.0</td>\n",
       "    </tr>\n",
       "    <tr>\n",
       "      <th>4</th>\n",
       "      <td>2024-08-31 23:00</td>\n",
       "      <td>Toufen</td>\n",
       "      <td>Miaoli County</td>\n",
       "      <td>50.0</td>\n",
       "      <td>NaN</td>\n",
       "      <td>Good</td>\n",
       "      <td>1.0</td>\n",
       "      <td>0.16</td>\n",
       "      <td>33.5</td>\n",
       "      <td>35.9</td>\n",
       "      <td>...</td>\n",
       "      <td>1.8</td>\n",
       "      <td>259</td>\n",
       "      <td>NaN</td>\n",
       "      <td>0.1</td>\n",
       "      <td>15.3</td>\n",
       "      <td>28.0</td>\n",
       "      <td>1.0</td>\n",
       "      <td>120.898693</td>\n",
       "      <td>24.696907</td>\n",
       "      <td>25.0</td>\n",
       "    </tr>\n",
       "  </tbody>\n",
       "</table>\n",
       "<p>5 rows × 25 columns</p>\n",
       "</div>"
      ],
      "text/plain": [
       "               date   sitename          county   aqi pollutant    status  so2  \\\n",
       "0  2024-08-31 23:00      Hukou  Hsinchu County  62.0     PM2.5  Moderate  0.9   \n",
       "1  2024-08-31 23:00  Zhongming   Taichung City  50.0       NaN      Good  1.6   \n",
       "2  2024-08-31 23:00    Zhudong  Hsinchu County  45.0       NaN      Good  0.4   \n",
       "3  2024-08-31 23:00    Hsinchu    Hsinchu City  42.0       NaN      Good  0.8   \n",
       "4  2024-08-31 23:00     Toufen   Miaoli County  50.0       NaN      Good  1.0   \n",
       "\n",
       "     co    o3 o3_8hr  ... windspeed winddirec unit co_8hr pm2.5_avg pm10_avg  \\\n",
       "0  0.17  35.0   40.2  ...       2.3       225  NaN    0.2      20.1     26.0   \n",
       "1  0.32  27.9   35.1  ...       1.1       184  NaN    0.2      15.3     23.0   \n",
       "2  0.17  25.1   40.6  ...       0.4       210  NaN    0.2      13.8     24.0   \n",
       "3   0.2  30.0   35.9  ...       1.9       239  NaN    0.2      13.0     26.0   \n",
       "4  0.16  33.5   35.9  ...       1.8       259  NaN    0.1      15.3     28.0   \n",
       "\n",
       "  so2_avg   longitude   latitude siteid  \n",
       "0     1.0  121.038869  24.900097   22.0  \n",
       "1     1.0  120.641092  24.151958   31.0  \n",
       "2     0.0  121.088955  24.740914   23.0  \n",
       "3     1.0  120.972368  24.805636   24.0  \n",
       "4     1.0  120.898693  24.696907   25.0  \n",
       "\n",
       "[5 rows x 25 columns]"
      ]
     },
     "execution_count": 6,
     "metadata": {},
     "output_type": "execute_result"
    }
   ],
   "source": [
    "df.head()"
   ]
  },
  {
   "cell_type": "code",
   "execution_count": 5,
   "metadata": {},
   "outputs": [
    {
     "data": {
      "text/plain": [
       "status\n",
       "Good                              3185191\n",
       "Moderate                          2159158\n",
       "Unhealthy for Sensitive Groups     343909\n",
       "Unhealthy                           51008\n",
       "Very Unhealthy                        173\n",
       "Hazardous                              51\n",
       "Name: count, dtype: int64"
      ]
     },
     "execution_count": 5,
     "metadata": {},
     "output_type": "execute_result"
    }
   ],
   "source": [
    "df['status'].value_counts()\n"
   ]
  },
  {
   "cell_type": "code",
   "execution_count": 8,
   "metadata": {},
   "outputs": [
    {
     "name": "stdout",
     "output_type": "stream",
     "text": [
      "\n",
      "Good\n",
      "                                                0~50\n",
      "\n",
      "\n",
      "Moderate\n",
      "                                                51~100\n",
      "\n",
      "\n",
      "Unhealthy for Sensitive Groups\n",
      "                                                101~150\n",
      "\n",
      "\n",
      "Unhealthy\n",
      "                                                151~200\n",
      "\n",
      "\n",
      "Very Unhealthy\n",
      "                                                201~300\n",
      "\n",
      "\n",
      "Hazardous\n",
      "                                                301~500\n",
      "\n"
     ]
    }
   ],
   "source": [
    "import requests\n",
    "from bs4 import BeautifulSoup\n",
    "\n",
    "# URL of the website to scrape\n",
    "url = \"https://airtw.moenv.gov.tw/ENG/EnvMonitoring/Central/CentralMonitoring.aspx\"\n",
    "\n",
    "# Fetch the content from the URL\n",
    "response = requests.get(url)\n",
    "\n",
    "# Parse the content using BeautifulSoup\n",
    "soup = BeautifulSoup(response.content, \"html.parser\")\n",
    "\n",
    "# Adjust the selector based on the webpage structure (e.g., div, table, etc.)\n",
    "data = soup.find_all(\"td\")  # Example for finding table data\n",
    "\n",
    "# Print the extracted data\n",
    "for item in data:\n",
    "    print(item.text)\n"
   ]
  },
  {
   "cell_type": "code",
   "execution_count": 11,
   "metadata": {},
   "outputs": [
    {
     "name": "stdout",
     "output_type": "stream",
     "text": [
      "[<td>\n",
      "<span class=\"bor-top-green\">Good<br/>\n",
      "                                                0~50</span>\n",
      "</td>, <td>\n",
      "<span class=\"bor-top-yellow\">Moderate<br/>\n",
      "                                                51~100</span>\n",
      "</td>, <td>\n",
      "<span class=\"bor-top-orange\">Unhealthy for Sensitive Groups<br/>\n",
      "                                                101~150</span>\n",
      "</td>, <td>\n",
      "<span class=\"bor-top-red\">Unhealthy<br/>\n",
      "                                                151~200</span>\n",
      "</td>, <td>\n",
      "<span class=\"bor-top-purple\">Very Unhealthy<br/>\n",
      "                                                201~300</span>\n",
      "</td>, <td>\n",
      "<span class=\"bor-top-brown\">Hazardous<br/>\n",
      "                                                301~500</span>\n",
      "</td>]\n"
     ]
    }
   ],
   "source": [
    "print(data)"
   ]
  }
 ],
 "metadata": {
  "kernelspec": {
   "display_name": "Python 3",
   "language": "python",
   "name": "python3"
  },
  "language_info": {
   "codemirror_mode": {
    "name": "ipython",
    "version": 3
   },
   "file_extension": ".py",
   "mimetype": "text/x-python",
   "name": "python",
   "nbconvert_exporter": "python",
   "pygments_lexer": "ipython3",
   "version": "3.11.7"
  }
 },
 "nbformat": 4,
 "nbformat_minor": 2
}
